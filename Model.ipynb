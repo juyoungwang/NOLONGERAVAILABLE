{
  "cells": [
    {
      "cell_type": "markdown",
      "metadata": {
        "id": "sKRo0dbrtEXa"
      },
      "source": [
        "# Bike sharing problem\n",
        "\n",
        "You can get the dataset here: https://www.kaggle.com/competitions/bike-sharing-demand\n",
        "It is worth mentioning the neural network-based models I am presenting were NOT hyperparameter-tunned. I just wrote this code for fun, so I did not want to do more works...\n",
        "\n",
        "## 1. GBR\n",
        "### 1.1. Raw data processor for gradient boosted regression algorithm\n",
        "We will:\n",
        "* drop [\"casual\", \"registered\"] columns, as they are unknown before observing the true demand data.\n",
        "* separate datetime into year, month, day and hour, since we would like to use them as covariates information. Note that the dataset is registered in hourly basis, meaning, we will only consider year, month, day and hour as time covariates."
      ]
    },
    {
      "cell_type": "code",
      "execution_count": 166,
      "metadata": {
        "id": "U7-FnAchtEXc"
      },
      "outputs": [],
      "source": [
        "import seaborn as sns\n",
        "sns.set_style(\"whitegrid\")\n",
        "sns.set(rc={'figure.figsize':(15,7.5)})"
      ]
    },
    {
      "cell_type": "code",
      "execution_count": 2,
      "metadata": {
        "id": "yZvabFsItEXd"
      },
      "outputs": [],
      "source": [
        "import pandas as pd\n",
        "train = pd.read_csv(\"data/train.csv\", parse_dates = [\"datetime\"])\n",
        "test = pd.read_csv(\"data/test.csv\", parse_dates = [\"datetime\"])\n",
        "features = list(train)[:-3]\n",
        "label = list(train)[-1]\n",
        "\n",
        "def preprocessor(df, features):\n",
        "    df[\"year\"] = pd.to_datetime(df['datetime']).dt.year\n",
        "    df[\"month\"] = pd.to_datetime(df['datetime']).dt.month\n",
        "    df[\"day\"] = pd.to_datetime(df['datetime']).dt.day\n",
        "    df[\"hour\"] = pd.to_datetime(df['datetime']).dt.hour\n",
        "    try:\n",
        "        return df[[\"year\", \"month\", \"day\", \"hour\"] + features[1:]], df[\"count\"]\n",
        "    except:\n",
        "        return df[[\"year\", \"month\", \"day\", \"hour\"] + features[1:]]"
      ]
    },
    {
      "cell_type": "code",
      "execution_count": 3,
      "metadata": {
        "id": "PlYgCVVttEXe"
      },
      "outputs": [],
      "source": [
        "train_x, train_y = preprocessor(train, features)\n",
        "test_x = preprocessor(test, features)"
      ]
    },
    {
      "cell_type": "markdown",
      "metadata": {
        "id": "iyZqJlIRtEXe"
      },
      "source": [
        "Code below shows there is no nan, neither null data in our dataset:"
      ]
    },
    {
      "cell_type": "code",
      "execution_count": 4,
      "metadata": {
        "id": "0YSTc4d6tEXe",
        "outputId": "e5177151-940e-49fb-e954-9d95dcccad00"
      },
      "outputs": [
        {
          "name": "stdout",
          "output_type": "stream",
          "text": [
            "<class 'pandas.core.frame.DataFrame'>\n",
            "RangeIndex: 10886 entries, 0 to 10885\n",
            "Data columns (total 12 columns):\n",
            " #   Column      Non-Null Count  Dtype  \n",
            "---  ------      --------------  -----  \n",
            " 0   year        10886 non-null  int64  \n",
            " 1   month       10886 non-null  int64  \n",
            " 2   day         10886 non-null  int64  \n",
            " 3   hour        10886 non-null  int64  \n",
            " 4   season      10886 non-null  int64  \n",
            " 5   holiday     10886 non-null  int64  \n",
            " 6   workingday  10886 non-null  int64  \n",
            " 7   weather     10886 non-null  int64  \n",
            " 8   temp        10886 non-null  float64\n",
            " 9   atemp       10886 non-null  float64\n",
            " 10  humidity    10886 non-null  int64  \n",
            " 11  windspeed   10886 non-null  float64\n",
            "dtypes: float64(3), int64(9)\n",
            "memory usage: 1020.7 KB\n",
            "None\n",
            "0\n",
            "<class 'pandas.core.frame.DataFrame'>\n",
            "RangeIndex: 6493 entries, 0 to 6492\n",
            "Data columns (total 12 columns):\n",
            " #   Column      Non-Null Count  Dtype  \n",
            "---  ------      --------------  -----  \n",
            " 0   year        6493 non-null   int64  \n",
            " 1   month       6493 non-null   int64  \n",
            " 2   day         6493 non-null   int64  \n",
            " 3   hour        6493 non-null   int64  \n",
            " 4   season      6493 non-null   int64  \n",
            " 5   holiday     6493 non-null   int64  \n",
            " 6   workingday  6493 non-null   int64  \n",
            " 7   weather     6493 non-null   int64  \n",
            " 8   temp        6493 non-null   float64\n",
            " 9   atemp       6493 non-null   float64\n",
            " 10  humidity    6493 non-null   int64  \n",
            " 11  windspeed   6493 non-null   float64\n",
            "dtypes: float64(3), int64(9)\n",
            "memory usage: 608.8 KB\n",
            "None\n"
          ]
        }
      ],
      "source": [
        "print(train_x.info())\n",
        "print(train_y.isnull().sum())\n",
        "print(test_x.info())"
      ]
    },
    {
      "cell_type": "markdown",
      "metadata": {
        "id": "_Zl_GucjtEXf"
      },
      "source": [
        "### 1.2. Gradient boosting regressor\n",
        "I brought the code below from https://www.kaggle.com/code/kongnyooong/bike-sharing-demand-for-korean-beginners/notebook, just for the comparison purposes with the neural network-based method. I was about to implement this myself, but since there is already implemented one, why? For further details, please check the code above."
      ]
    },
    {
      "cell_type": "markdown",
      "metadata": {
        "id": "PfU-7InxtEXg"
      },
      "source": [
        "## 2. Deep leearning\n",
        "\n",
        "### 2.1. Data processing\n",
        "* Unlike tree-based methods, such as XGBoost, neural network requires (or it better performs with) data normalization (or standardization).\n",
        "* For the sake of data-scaling, we will perform batch normalization.\n",
        "* For ancestral sampling purpose, we will append $z_{t-1}$ to input vector $x_t$, i.e. the RNN input vector will be $(z_{t-1},x_t)$ for timestep $t$, where $(z_s)_s$ is target series, and $(x_s)_s$ is known covariates."
      ]
    },
    {
      "cell_type": "code",
      "execution_count": 5,
      "metadata": {
        "id": "KEhevNdztEXg"
      },
      "outputs": [],
      "source": [
        "import pandas as pd\n",
        "import matplotlib.pyplot as plt\n",
        "import seaborn as sns\n",
        "import numpy as np\n",
        "train = pd.read_csv(\"data/train.csv\", parse_dates = [\"datetime\"])\n",
        "test = pd.read_csv(\"data/test.csv\", parse_dates = [\"datetime\"])\n",
        "features = list(train)[:-3]\n",
        "label = list(train)[-1]\n",
        "\n",
        "def preprocessor(df, features):\n",
        "    df[\"year\"] = pd.to_datetime(df['datetime']).dt.year\n",
        "    df[\"month\"] = pd.to_datetime(df['datetime']).dt.month\n",
        "    df[\"day\"] = pd.to_datetime(df['datetime']).dt.day\n",
        "    df[\"hour\"] = pd.to_datetime(df['datetime']).dt.hour\n",
        "    try:\n",
        "        return df[[\"year\", \"month\", \"day\", \"hour\"] + features[1:]], df[\"count\"]\n",
        "    except:\n",
        "        return df[[\"year\", \"month\", \"day\", \"hour\"] + features[1:]]\n",
        "\n",
        "train_x, train_y = preprocessor(train, features)\n",
        "test_x = preprocessor(test, features)"
      ]
    },
    {
      "cell_type": "markdown",
      "metadata": {
        "id": "nyIlMwsStEXh"
      },
      "source": [
        "For the sake of implementational convenience, we will assume year, month, day, hour are continuous features. However, we strongly agree it is highly debatable if we would like to treat them as categorical feature or not."
      ]
    },
    {
      "cell_type": "code",
      "execution_count": 6,
      "metadata": {
        "colab": {
          "base_uri": "https://localhost:8080/",
          "height": 204
        },
        "id": "Tw4ZCbAEtEXh",
        "outputId": "d50831b2-13ec-407b-b049-65f1d821c4ee"
      },
      "outputs": [
        {
          "data": {
            "text/html": [
              "<div>\n",
              "<style scoped>\n",
              "    .dataframe tbody tr th:only-of-type {\n",
              "        vertical-align: middle;\n",
              "    }\n",
              "\n",
              "    .dataframe tbody tr th {\n",
              "        vertical-align: top;\n",
              "    }\n",
              "\n",
              "    .dataframe thead th {\n",
              "        text-align: right;\n",
              "    }\n",
              "</style>\n",
              "<table border=\"1\" class=\"dataframe\">\n",
              "  <thead>\n",
              "    <tr style=\"text-align: right;\">\n",
              "      <th></th>\n",
              "      <th>year</th>\n",
              "      <th>month</th>\n",
              "      <th>day</th>\n",
              "      <th>hour</th>\n",
              "      <th>season</th>\n",
              "      <th>holiday</th>\n",
              "      <th>workingday</th>\n",
              "      <th>weather</th>\n",
              "      <th>temp</th>\n",
              "      <th>atemp</th>\n",
              "      <th>humidity</th>\n",
              "      <th>windspeed</th>\n",
              "    </tr>\n",
              "  </thead>\n",
              "  <tbody>\n",
              "    <tr>\n",
              "      <th>0</th>\n",
              "      <td>2011</td>\n",
              "      <td>1</td>\n",
              "      <td>1</td>\n",
              "      <td>0</td>\n",
              "      <td>1</td>\n",
              "      <td>0</td>\n",
              "      <td>0</td>\n",
              "      <td>1</td>\n",
              "      <td>9.84</td>\n",
              "      <td>14.395</td>\n",
              "      <td>81</td>\n",
              "      <td>0.0</td>\n",
              "    </tr>\n",
              "    <tr>\n",
              "      <th>1</th>\n",
              "      <td>2011</td>\n",
              "      <td>1</td>\n",
              "      <td>1</td>\n",
              "      <td>1</td>\n",
              "      <td>1</td>\n",
              "      <td>0</td>\n",
              "      <td>0</td>\n",
              "      <td>1</td>\n",
              "      <td>9.02</td>\n",
              "      <td>13.635</td>\n",
              "      <td>80</td>\n",
              "      <td>0.0</td>\n",
              "    </tr>\n",
              "    <tr>\n",
              "      <th>2</th>\n",
              "      <td>2011</td>\n",
              "      <td>1</td>\n",
              "      <td>1</td>\n",
              "      <td>2</td>\n",
              "      <td>1</td>\n",
              "      <td>0</td>\n",
              "      <td>0</td>\n",
              "      <td>1</td>\n",
              "      <td>9.02</td>\n",
              "      <td>13.635</td>\n",
              "      <td>80</td>\n",
              "      <td>0.0</td>\n",
              "    </tr>\n",
              "    <tr>\n",
              "      <th>3</th>\n",
              "      <td>2011</td>\n",
              "      <td>1</td>\n",
              "      <td>1</td>\n",
              "      <td>3</td>\n",
              "      <td>1</td>\n",
              "      <td>0</td>\n",
              "      <td>0</td>\n",
              "      <td>1</td>\n",
              "      <td>9.84</td>\n",
              "      <td>14.395</td>\n",
              "      <td>75</td>\n",
              "      <td>0.0</td>\n",
              "    </tr>\n",
              "    <tr>\n",
              "      <th>4</th>\n",
              "      <td>2011</td>\n",
              "      <td>1</td>\n",
              "      <td>1</td>\n",
              "      <td>4</td>\n",
              "      <td>1</td>\n",
              "      <td>0</td>\n",
              "      <td>0</td>\n",
              "      <td>1</td>\n",
              "      <td>9.84</td>\n",
              "      <td>14.395</td>\n",
              "      <td>75</td>\n",
              "      <td>0.0</td>\n",
              "    </tr>\n",
              "  </tbody>\n",
              "</table>\n",
              "</div>"
            ],
            "text/plain": [
              "   year  month  day  hour  season  holiday  workingday  weather  temp   atemp  \\\n",
              "0  2011      1    1     0       1        0           0        1  9.84  14.395   \n",
              "1  2011      1    1     1       1        0           0        1  9.02  13.635   \n",
              "2  2011      1    1     2       1        0           0        1  9.02  13.635   \n",
              "3  2011      1    1     3       1        0           0        1  9.84  14.395   \n",
              "4  2011      1    1     4       1        0           0        1  9.84  14.395   \n",
              "\n",
              "   humidity  windspeed  \n",
              "0        81        0.0  \n",
              "1        80        0.0  \n",
              "2        80        0.0  \n",
              "3        75        0.0  \n",
              "4        75        0.0  "
            ]
          },
          "execution_count": 6,
          "metadata": {},
          "output_type": "execute_result"
        }
      ],
      "source": [
        "train_x.head()"
      ]
    },
    {
      "cell_type": "markdown",
      "metadata": {
        "id": "36tLfVeztEXh"
      },
      "source": [
        "Note that there is high concentration of windspeed = 0, which is theoretically impossible."
      ]
    },
    {
      "cell_type": "code",
      "execution_count": 7,
      "metadata": {
        "colab": {
          "base_uri": "https://localhost:8080/",
          "height": 353
        },
        "id": "VXlBqrBBtEXi",
        "outputId": "4d1107d4-4c82-4e84-e1fb-028299848ea6"
      },
      "outputs": [
        {
          "data": {
            "text/plain": [
              "(array([1.313e+03, 4.083e+03, 2.827e+03, 1.540e+03, 6.960e+02, 2.800e+02,\n",
              "        1.070e+02, 3.100e+01, 6.000e+00, 3.000e+00]),\n",
              " array([ 0.     ,  5.69969, 11.39938, 17.09907, 22.79876, 28.49845,\n",
              "        34.19814, 39.89783, 45.59752, 51.29721, 56.9969 ]),\n",
              " <BarContainer object of 10 artists>)"
            ]
          },
          "execution_count": 7,
          "metadata": {},
          "output_type": "execute_result"
        },
        {
          "data": {
            "image/png": "[encoded data removed]",
            "text/plain": [
              "<Figure size 1080x540 with 1 Axes>"
            ]
          },
          "metadata": {},
          "output_type": "display_data"
        }
      ],
      "source": [
        "plt.hist(train_x[\"windspeed\"])"
      ]
    },
    {
      "cell_type": "markdown",
      "metadata": {
        "id": "H6iBcSpztEXi"
      },
      "source": [
        "* Assuming windspeed unavailable data were replaced by 0, let as drop this column. \n",
        "* Furthermore, both temp and atemp are almost linearly related with each other. Let us also drop atemp column, to reduce any issues due to high correlation.\n",
        "* Lastly, we will change the domain of season feature to be between 0 and 3, instead of using 1 and 4."
      ]
    },
    {
      "cell_type": "code",
      "execution_count": 8,
      "metadata": {
        "colab": {
          "base_uri": "https://localhost:8080/"
        },
        "id": "eOAeUE-BtEXj",
        "outputId": "3b63b31d-2cba-4ff7-f319-abb9537f2bb2"
      },
      "outputs": [
        {
          "name": "stderr",
          "output_type": "stream",
          "text": [
            "/var/folders/98/x8m1zwn15pldrsjr7xtrljz40000gn/T/ipykernel_6204/1614667601.py:3: SettingWithCopyWarning: \n",
            "A value is trying to be set on a copy of a slice from a DataFrame.\n",
            "Try using .loc[row_indexer,col_indexer] = value instead\n",
            "\n",
            "See the caveats in the documentation: https://pandas.pydata.org/pandas-docs/stable/user_guide/indexing.html#returning-a-view-versus-a-copy\n",
            "  train_x['season'] = train_x['season'] - 1\n",
            "/var/folders/98/x8m1zwn15pldrsjr7xtrljz40000gn/T/ipykernel_6204/1614667601.py:4: SettingWithCopyWarning: \n",
            "A value is trying to be set on a copy of a slice from a DataFrame.\n",
            "Try using .loc[row_indexer,col_indexer] = value instead\n",
            "\n",
            "See the caveats in the documentation: https://pandas.pydata.org/pandas-docs/stable/user_guide/indexing.html#returning-a-view-versus-a-copy\n",
            "  train_x['weather'] = train_x['weather'] - 1\n",
            "/var/folders/98/x8m1zwn15pldrsjr7xtrljz40000gn/T/ipykernel_6204/1614667601.py:5: SettingWithCopyWarning: \n",
            "A value is trying to be set on a copy of a slice from a DataFrame.\n",
            "Try using .loc[row_indexer,col_indexer] = value instead\n",
            "\n",
            "See the caveats in the documentation: https://pandas.pydata.org/pandas-docs/stable/user_guide/indexing.html#returning-a-view-versus-a-copy\n",
            "  test_x['season'] = test_x['season'] - 1\n",
            "/var/folders/98/x8m1zwn15pldrsjr7xtrljz40000gn/T/ipykernel_6204/1614667601.py:6: SettingWithCopyWarning: \n",
            "A value is trying to be set on a copy of a slice from a DataFrame.\n",
            "Try using .loc[row_indexer,col_indexer] = value instead\n",
            "\n",
            "See the caveats in the documentation: https://pandas.pydata.org/pandas-docs/stable/user_guide/indexing.html#returning-a-view-versus-a-copy\n",
            "  test_x['weather'] = test_x['weather'] - 1\n"
          ]
        }
      ],
      "source": [
        "cont_feat = ['year', 'month', 'day', 'hour', 'temp', 'humidity']\n",
        "disc_feat = ['season', 'holiday', 'workingday', 'weather']\n",
        "train_x['season'] = train_x['season'] - 1\n",
        "train_x['weather'] = train_x['weather'] - 1\n",
        "test_x['season'] = test_x['season'] - 1\n",
        "test_x['weather'] = test_x['weather'] - 1\n",
        "train_x = train_x[cont_feat + disc_feat]\n",
        "test_x = test_x[cont_feat + disc_feat]"
      ]
    },
    {
      "cell_type": "markdown",
      "metadata": {
        "id": "_xvYDb8wtEXj"
      },
      "source": [
        "We now have to apply MinMax scaling technique to continuous features:"
      ]
    },
    {
      "cell_type": "code",
      "execution_count": 9,
      "metadata": {
        "id": "c48_0AputEXj"
      },
      "outputs": [],
      "source": [
        "from sklearn.preprocessing import MinMaxScaler\n",
        "MMSc_feature = MinMaxScaler()\n",
        "MMSc_feature.fit(train_x[cont_feat])\n",
        "train_x[cont_feat] = MMSc_feature.transform(train_x[cont_feat])\n",
        "test_x[cont_feat] = MMSc_feature.transform(test_x[cont_feat])"
      ]
    },
    {
      "cell_type": "code",
      "execution_count": 10,
      "metadata": {
        "id": "rOK0AX-VtEXk"
      },
      "outputs": [],
      "source": [
        "MMSc_label = MinMaxScaler()\n",
        "MMSc_label.fit(np.asarray(train_y).reshape(-1,1))\n",
        "train_y = MMSc_label.transform(np.asarray(train_y).reshape(-1,1))"
      ]
    },
    {
      "cell_type": "markdown",
      "metadata": {
        "id": "D5w6dERAtEXk"
      },
      "source": [
        "Now, let us separate train dataset into both \"other train\" and \"validation\"."
      ]
    },
    {
      "cell_type": "code",
      "execution_count": 11,
      "metadata": {
        "id": "j5sFR19ytEXl"
      },
      "outputs": [],
      "source": [
        "train = train_x.copy()\n",
        "train[\"label\"] = train_y\n",
        "n = len(train)\n",
        "train_df = train[0:int(n*0.7)]\n",
        "val_df = train[int(n*0.7):int(n*0.9)]\n",
        "test_df = train[int(n*0.9):]"
      ]
    },
    {
      "cell_type": "markdown",
      "metadata": {
        "id": "_xmudrnKtEXl"
      },
      "source": [
        "It is shown in a variety of literature, that time series forcasting performance can be drastically enhanced by using the \"previous target series value\" as inputs. However, for the sake of simplicity of the code, we will skip such a step."
      ]
    },
    {
      "cell_type": "markdown",
      "metadata": {
        "id": "94teIkQhtEXl"
      },
      "source": [
        "### 2.2. Tensorflow implementation for LSTM-based models\n",
        "\n",
        "* Normalized log-transformed label has range 0 to 1. Since > 0, we would like to use ReLU() as the output activation function.\n",
        "\n",
        "### 2.2.1. Time series window generation\n",
        "\n",
        "Below, we will make tensorflow iterators for windowed arrays of format (batch_size, time steps, features)."
      ]
    },
    {
      "cell_type": "code",
      "execution_count": 12,
      "metadata": {
        "id": "FX-IML_utEXl"
      },
      "outputs": [],
      "source": [
        "import os\n",
        "import tensorflow as tf\n",
        "from tensorflow import keras\n",
        "from tensorflow.keras.layers import Embedding, Dropout, Bidirectional, LSTM, Dense, TimeDistributed, Softmax, Multiply, Lambda, Reshape\n",
        "from tensorflow.keras.regularizers import l2\n",
        "from tensorflow.keras import backend as K\n",
        "from tensorflow.keras.callbacks import Callback, EarlyStopping, ModelCheckpoint, TensorBoard\n",
        "import tensorflow_probability as tfp\n"
      ]
    },
    {
      "cell_type": "code",
      "execution_count": 13,
      "metadata": {
        "id": "yVz4zNl_tEXm"
      },
      "outputs": [],
      "source": [
        "def windowed_dataset(series, window_size, batch_size, shuffle_buffer, train = True):\n",
        "  dataset = tf.data.Dataset.from_tensor_slices(series)\n",
        "  dataset = dataset.window(window_size + 1, shift=1, drop_remainder=True)\n",
        "  dataset = dataset.flat_map(lambda window: window.batch(window_size + 1))\n",
        "  dataset = dataset.shuffle(shuffle_buffer)\n",
        "  if train:\n",
        "    dataset = dataset.batch(batch_size).prefetch(1)\n",
        "  else:\n",
        "    dataset = dataset.batch(series.shape[0]).prefetch(1)\n",
        "  return dataset"
      ]
    },
    {
      "cell_type": "code",
      "execution_count": null,
      "metadata": {},
      "outputs": [],
      "source": [
        "window_size = 24\n",
        "batch_size = 32\n",
        "shuffle_buffer = 1000\n",
        "train_dat = windowed_dataset(train_df, window_size, batch_size, shuffle_buffer)\n",
        "validation_dat = windowed_dataset(val_df, window_size, batch_size, shuffle_buffer)\n",
        "test_dat = windowed_dataset(test_df, window_size, batch_size, shuffle_buffer, train = False)"
      ]
    },
    {
      "cell_type": "markdown",
      "metadata": {
        "id": "YQDIbXc5tEXn"
      },
      "source": [
        "Each train iterate are of the form:"
      ]
    },
    {
      "cell_type": "code",
      "execution_count": null,
      "metadata": {
        "id": "8Eaip7nktEXn",
        "outputId": "dcde06a5-cb4a-42eb-f7e0-0253970d9caf"
      },
      "outputs": [
        {
          "name": "stdout",
          "output_type": "stream",
          "text": [
            "(32, 25, 11)\n"
          ]
        },
        {
          "name": "stderr",
          "output_type": "stream",
          "text": [
            "2022-06-18 00:53:52.388124: I tensorflow/compiler/mlir/mlir_graph_optimization_pass.cc:116] None of the MLIR optimization passes are enabled (registered 2)\n"
          ]
        }
      ],
      "source": [
        "print(next(train_dat.as_numpy_iterator()).shape)"
      ]
    },
    {
      "cell_type": "code",
      "execution_count": null,
      "metadata": {
        "id": "Biti6fhZtEXn",
        "outputId": "2516d859-61e5-498c-8714-a94813994203"
      },
      "outputs": [
        {
          "data": {
            "text/plain": [
              "<PrefetchDataset shapes: (None, None, 11), types: tf.float64>"
            ]
          },
          "execution_count": 13,
          "metadata": {},
          "output_type": "execute_result"
        }
      ],
      "source": [
        "train_dat"
      ]
    },
    {
      "cell_type": "markdown",
      "metadata": {
        "id": "syKFvMuptEXo"
      },
      "source": [
        "which looks like:"
      ]
    },
    {
      "cell_type": "code",
      "execution_count": null,
      "metadata": {
        "id": "E6rJqEwAtEXo",
        "outputId": "f47d1101-6fe8-43f2-af3f-f8ef34474fdf"
      },
      "outputs": [
        {
          "data": {
            "text/html": [
              "<div>\n",
              "<style scoped>\n",
              "    .dataframe tbody tr th:only-of-type {\n",
              "        vertical-align: middle;\n",
              "    }\n",
              "\n",
              "    .dataframe tbody tr th {\n",
              "        vertical-align: top;\n",
              "    }\n",
              "\n",
              "    .dataframe thead th {\n",
              "        text-align: right;\n",
              "    }\n",
              "</style>\n",
              "<table border=\"1\" class=\"dataframe\">\n",
              "  <thead>\n",
              "    <tr style=\"text-align: right;\">\n",
              "      <th></th>\n",
              "      <th>0</th>\n",
              "      <th>1</th>\n",
              "      <th>2</th>\n",
              "      <th>3</th>\n",
              "      <th>4</th>\n",
              "      <th>5</th>\n",
              "      <th>6</th>\n",
              "      <th>7</th>\n",
              "      <th>8</th>\n",
              "      <th>9</th>\n",
              "      <th>10</th>\n",
              "    </tr>\n",
              "  </thead>\n",
              "  <tbody>\n",
              "    <tr>\n",
              "      <th>0</th>\n",
              "      <td>0.0</td>\n",
              "      <td>0.181818</td>\n",
              "      <td>0.055556</td>\n",
              "      <td>0.086957</td>\n",
              "      <td>0.204082</td>\n",
              "      <td>0.69</td>\n",
              "      <td>0.0</td>\n",
              "      <td>0.0</td>\n",
              "      <td>1.0</td>\n",
              "      <td>0.0</td>\n",
              "      <td>0.001025</td>\n",
              "    </tr>\n",
              "    <tr>\n",
              "      <th>1</th>\n",
              "      <td>0.0</td>\n",
              "      <td>0.181818</td>\n",
              "      <td>0.055556</td>\n",
              "      <td>0.130435</td>\n",
              "      <td>0.204082</td>\n",
              "      <td>0.69</td>\n",
              "      <td>0.0</td>\n",
              "      <td>0.0</td>\n",
              "      <td>1.0</td>\n",
              "      <td>0.0</td>\n",
              "      <td>0.003074</td>\n",
              "    </tr>\n",
              "    <tr>\n",
              "      <th>2</th>\n",
              "      <td>0.0</td>\n",
              "      <td>0.181818</td>\n",
              "      <td>0.055556</td>\n",
              "      <td>0.173913</td>\n",
              "      <td>0.183673</td>\n",
              "      <td>0.75</td>\n",
              "      <td>0.0</td>\n",
              "      <td>0.0</td>\n",
              "      <td>1.0</td>\n",
              "      <td>0.0</td>\n",
              "      <td>0.000000</td>\n",
              "    </tr>\n",
              "    <tr>\n",
              "      <th>3</th>\n",
              "      <td>0.0</td>\n",
              "      <td>0.181818</td>\n",
              "      <td>0.055556</td>\n",
              "      <td>0.217391</td>\n",
              "      <td>0.204082</td>\n",
              "      <td>0.69</td>\n",
              "      <td>0.0</td>\n",
              "      <td>0.0</td>\n",
              "      <td>1.0</td>\n",
              "      <td>0.0</td>\n",
              "      <td>0.004098</td>\n",
              "    </tr>\n",
              "    <tr>\n",
              "      <th>4</th>\n",
              "      <td>0.0</td>\n",
              "      <td>0.181818</td>\n",
              "      <td>0.055556</td>\n",
              "      <td>0.260870</td>\n",
              "      <td>0.204082</td>\n",
              "      <td>0.55</td>\n",
              "      <td>0.0</td>\n",
              "      <td>0.0</td>\n",
              "      <td>1.0</td>\n",
              "      <td>0.0</td>\n",
              "      <td>0.039959</td>\n",
              "    </tr>\n",
              "  </tbody>\n",
              "</table>\n",
              "</div>"
            ],
            "text/plain": [
              "    0         1         2         3         4     5    6    7    8    9   \\\n",
              "0  0.0  0.181818  0.055556  0.086957  0.204082  0.69  0.0  0.0  1.0  0.0   \n",
              "1  0.0  0.181818  0.055556  0.130435  0.204082  0.69  0.0  0.0  1.0  0.0   \n",
              "2  0.0  0.181818  0.055556  0.173913  0.183673  0.75  0.0  0.0  1.0  0.0   \n",
              "3  0.0  0.181818  0.055556  0.217391  0.204082  0.69  0.0  0.0  1.0  0.0   \n",
              "4  0.0  0.181818  0.055556  0.260870  0.204082  0.55  0.0  0.0  1.0  0.0   \n",
              "\n",
              "         10  \n",
              "0  0.001025  \n",
              "1  0.003074  \n",
              "2  0.000000  \n",
              "3  0.004098  \n",
              "4  0.039959  "
            ]
          },
          "execution_count": 14,
          "metadata": {},
          "output_type": "execute_result"
        }
      ],
      "source": [
        "pd.DataFrame(data = next(train_dat.as_numpy_iterator())[0, :, :]).head(5)"
      ]
    },
    {
      "cell_type": "markdown",
      "metadata": {
        "id": "qfn0xEWhtEXo"
      },
      "source": [
        "while validation and test are of shape:"
      ]
    },
    {
      "cell_type": "code",
      "execution_count": null,
      "metadata": {
        "id": "h5lHRXogtEXo",
        "outputId": "03326cbf-6027-4e33-aee8-9826f6fef35e"
      },
      "outputs": [
        {
          "name": "stdout",
          "output_type": "stream",
          "text": [
            "(32, 25, 11)\n",
            "(1065, 25, 11)\n"
          ]
        }
      ],
      "source": [
        "print(next(validation_dat.as_numpy_iterator()).shape)\n",
        "print(next(test_dat.as_numpy_iterator()).shape)"
      ]
    },
    {
      "cell_type": "markdown",
      "metadata": {
        "id": "hqK0wMSTtEXp"
      },
      "source": [
        "And each batch looks like:"
      ]
    },
    {
      "cell_type": "code",
      "execution_count": null,
      "metadata": {
        "id": "yIHfq4cVtEXq",
        "outputId": "9c82f40b-7ce3-4875-bbff-b18724a0a3e9"
      },
      "outputs": [
        {
          "data": {
            "text/html": [
              "<div>\n",
              "<style scoped>\n",
              "    .dataframe tbody tr th:only-of-type {\n",
              "        vertical-align: middle;\n",
              "    }\n",
              "\n",
              "    .dataframe tbody tr th {\n",
              "        vertical-align: top;\n",
              "    }\n",
              "\n",
              "    .dataframe thead th {\n",
              "        text-align: right;\n",
              "    }\n",
              "</style>\n",
              "<table border=\"1\" class=\"dataframe\">\n",
              "  <thead>\n",
              "    <tr style=\"text-align: right;\">\n",
              "      <th></th>\n",
              "      <th>0</th>\n",
              "      <th>1</th>\n",
              "      <th>2</th>\n",
              "      <th>3</th>\n",
              "      <th>4</th>\n",
              "      <th>5</th>\n",
              "      <th>6</th>\n",
              "      <th>7</th>\n",
              "      <th>8</th>\n",
              "      <th>9</th>\n",
              "      <th>10</th>\n",
              "    </tr>\n",
              "  </thead>\n",
              "  <tbody>\n",
              "    <tr>\n",
              "      <th>0</th>\n",
              "      <td>0.0</td>\n",
              "      <td>0.090909</td>\n",
              "      <td>0.722222</td>\n",
              "      <td>0.434783</td>\n",
              "      <td>0.428571</td>\n",
              "      <td>0.33</td>\n",
              "      <td>0.0</td>\n",
              "      <td>0.0</td>\n",
              "      <td>1.0</td>\n",
              "      <td>0.0</td>\n",
              "      <td>0.055328</td>\n",
              "    </tr>\n",
              "    <tr>\n",
              "      <th>1</th>\n",
              "      <td>0.0</td>\n",
              "      <td>0.090909</td>\n",
              "      <td>0.722222</td>\n",
              "      <td>0.478261</td>\n",
              "      <td>0.510204</td>\n",
              "      <td>0.23</td>\n",
              "      <td>0.0</td>\n",
              "      <td>0.0</td>\n",
              "      <td>1.0</td>\n",
              "      <td>0.0</td>\n",
              "      <td>0.053279</td>\n",
              "    </tr>\n",
              "    <tr>\n",
              "      <th>2</th>\n",
              "      <td>0.0</td>\n",
              "      <td>0.090909</td>\n",
              "      <td>0.722222</td>\n",
              "      <td>0.521739</td>\n",
              "      <td>0.551020</td>\n",
              "      <td>0.22</td>\n",
              "      <td>0.0</td>\n",
              "      <td>0.0</td>\n",
              "      <td>1.0</td>\n",
              "      <td>0.0</td>\n",
              "      <td>0.128074</td>\n",
              "    </tr>\n",
              "    <tr>\n",
              "      <th>3</th>\n",
              "      <td>0.0</td>\n",
              "      <td>0.090909</td>\n",
              "      <td>0.722222</td>\n",
              "      <td>0.565217</td>\n",
              "      <td>0.571429</td>\n",
              "      <td>0.19</td>\n",
              "      <td>0.0</td>\n",
              "      <td>0.0</td>\n",
              "      <td>1.0</td>\n",
              "      <td>0.0</td>\n",
              "      <td>0.121926</td>\n",
              "    </tr>\n",
              "    <tr>\n",
              "      <th>4</th>\n",
              "      <td>0.0</td>\n",
              "      <td>0.090909</td>\n",
              "      <td>0.722222</td>\n",
              "      <td>0.608696</td>\n",
              "      <td>0.591837</td>\n",
              "      <td>0.15</td>\n",
              "      <td>0.0</td>\n",
              "      <td>0.0</td>\n",
              "      <td>1.0</td>\n",
              "      <td>0.0</td>\n",
              "      <td>0.091189</td>\n",
              "    </tr>\n",
              "  </tbody>\n",
              "</table>\n",
              "</div>"
            ],
            "text/plain": [
              "    0         1         2         3         4     5    6    7    8    9   \\\n",
              "0  0.0  0.090909  0.722222  0.434783  0.428571  0.33  0.0  0.0  1.0  0.0   \n",
              "1  0.0  0.090909  0.722222  0.478261  0.510204  0.23  0.0  0.0  1.0  0.0   \n",
              "2  0.0  0.090909  0.722222  0.521739  0.551020  0.22  0.0  0.0  1.0  0.0   \n",
              "3  0.0  0.090909  0.722222  0.565217  0.571429  0.19  0.0  0.0  1.0  0.0   \n",
              "4  0.0  0.090909  0.722222  0.608696  0.591837  0.15  0.0  0.0  1.0  0.0   \n",
              "\n",
              "         10  \n",
              "0  0.055328  \n",
              "1  0.053279  \n",
              "2  0.128074  \n",
              "3  0.121926  \n",
              "4  0.091189  "
            ]
          },
          "execution_count": 16,
          "metadata": {},
          "output_type": "execute_result"
        }
      ],
      "source": [
        "pd.DataFrame(data = next(train_dat.as_numpy_iterator())[0, :, :]).head(5)"
      ]
    },
    {
      "cell_type": "markdown",
      "metadata": {
        "id": "rTyHplDNtEXt"
      },
      "source": [
        "Note that columns from\n",
        "* 0 to 5 are ordinal features,\n",
        "* 6 to 9 are categorical features,\n",
        "* 10 is label"
      ]
    },
    {
      "cell_type": "markdown",
      "metadata": {
        "id": "MUp-DVv6tEXu"
      },
      "source": [
        "Let us define list of columns corresponding to:\n",
        "* Ordinal features (=continuous features).\n",
        "* Categorical features (=discrete features).\n",
        "* Label\n",
        "\n",
        "using the code below:"
      ]
    },
    {
      "cell_type": "code",
      "execution_count": 13,
      "metadata": {
        "id": "Wf3EoKYVtEXw"
      },
      "outputs": [],
      "source": [
        "cont_feat_tf = list(range(0,6))\n",
        "disc_feat_tf = list(range(6,10))\n",
        "label_tf = [10]\n",
        "# pd.DataFrame(data = next(train_dat.as_numpy_iterator())[0, :, :]).iloc[:, cont_feat_tf]"
      ]
    },
    {
      "cell_type": "markdown",
      "metadata": {
        "id": "Mu3qT710tEXx"
      },
      "source": [
        "#### 2.2.2. Naive LSTM-based model\n",
        "\n",
        "Now we will build a naive LSTM-based model for the forcasting problem. First, let's define the loss."
      ]
    },
    {
      "cell_type": "code",
      "execution_count": 14,
      "metadata": {
        "id": "CJlQNnp9tEXx"
      },
      "outputs": [],
      "source": [
        "def rmse(y_true, y_pred):\n",
        "    return K.sqrt(K.mean(K.square(y_pred - y_true)))"
      ]
    },
    {
      "cell_type": "markdown",
      "metadata": {
        "id": "fSH7SaGRtEXx"
      },
      "source": [
        "Now, we will define the embedding dimension for discrete features. We will follow a general rule from https://developers.googleblog.com/2017/11/introducing-tensorflow-feature-columns.html, which suggests:\n",
        "$$\\text{Embedding dimension} = \\sqrt[4]{\\text{Number of categories}}$$\n",
        "\n",
        "Decimals will be rounded to the closest integers."
      ]
    },
    {
      "cell_type": "code",
      "execution_count": 15,
      "metadata": {
        "id": "8IuThiFJtEXy"
      },
      "outputs": [],
      "source": [
        "def embedding_dimension(cat_num):\n",
        "    return round(cat_num**0.25)\n",
        "\n",
        "cat_nums = [4, 2, 2, 4] # 4 for season, 2 for holiday, 2 for working day, 4 for weather"
      ]
    },
    {
      "cell_type": "markdown",
      "metadata": {
        "id": "cxBjDhDttEXy"
      },
      "source": [
        "Below, we have list of hyper parameters:"
      ]
    },
    {
      "cell_type": "code",
      "execution_count": 16,
      "metadata": {
        "id": "Q5kmbdMutEXy"
      },
      "outputs": [],
      "source": [
        "embedding_nums = [embedding_dimension(i) for i in cat_nums]\n",
        "dropout_rates = 0\n",
        "lstm_units = 64\n",
        "l1_penalty = 0"
      ]
    },
    {
      "cell_type": "markdown",
      "metadata": {
        "id": "p84VO7dAtEXy"
      },
      "source": [
        "Now, let's define the model:"
      ]
    },
    {
      "cell_type": "code",
      "execution_count": null,
      "metadata": {
        "id": "y0K32P16tEXz"
      },
      "outputs": [],
      "source": [
        "from tensorflow.keras.regularizers import l1\n",
        "\n",
        "# Input layer\n",
        "inp = tf.keras.Input((None, train.shape[1]-1), name = 'Input')\n",
        "\n",
        "# Continous features\n",
        "cont = K.stack([inp[:, :, i] for i in cont_feat_tf], axis = 2)\n",
        "\n",
        "# Discrete features\n",
        "cats_emb = []\n",
        "for d_f in disc_feat_tf:\n",
        "    cat_inp = inp[:, :, d_f]\n",
        "    d_fm6 = d_f - 6\n",
        "    cats_emb.append(Embedding(cat_nums[d_fm6], embedding_nums[d_fm6], name = \"Embedding_{0}\".format(disc_feat[d_fm6]))(cat_inp))\n",
        "sub_embs = tf.concat([cont, K.stack(cats_emb, axis = 2)[:, :, :, 0]], axis =\n",
        " 2)\n",
        "full_embs = Dropout(dropout_rates)(sub_embs)\n",
        "\n",
        "LSTM_out = tf.keras.layers.LSTM(lstm_units, return_sequences=True, name = \"LSTM\")(full_embs)\n",
        "Output_dense = Dense(1, activation='relu', name='Output', kernel_regularizer=l1(l1_penalty))\n",
        "Output = TimeDistributed(Output_dense, name='Output_timedistributed')(LSTM_out)\n"
      ]
    },
    {
      "cell_type": "markdown",
      "metadata": {
        "id": "dqpzlDYXtEXz"
      },
      "source": [
        "Below, let's compile the model:"
      ]
    },
    {
      "cell_type": "code",
      "execution_count": null,
      "metadata": {
        "id": "LLfWovhwtEX0"
      },
      "outputs": [],
      "source": [
        "lstm_model = tf.keras.Model(inputs=inp, outputs=Output, name='Basic_LSTM')\n",
        "lstm_model.compile(optimizer='adam', loss=rmse)"
      ]
    },
    {
      "cell_type": "markdown",
      "metadata": {
        "id": "VHDCYVfMtEX0"
      },
      "source": [
        "And now, let's train the model:"
      ]
    },
    {
      "cell_type": "code",
      "execution_count": null,
      "metadata": {
        "id": "0sg0cioHtEX0",
        "outputId": "a7cf9407-f760-4df5-f433-773931f605ce"
      },
      "outputs": [
        {
          "name": "stdout",
          "output_type": "stream",
          "text": [
            "We are at epoch = 0\n",
            "We are at epoch = 1\n",
            "We are at epoch = 2\n",
            "We are at epoch = 3\n",
            "We are at epoch = 4\n",
            "We are at epoch = 5\n",
            "We are at epoch = 6\n",
            "We are at epoch = 7\n",
            "We are at epoch = 8\n",
            "We are at epoch = 9\n",
            "We are at epoch = 10\n",
            "We are at epoch = 11\n",
            "We are at epoch = 12\n",
            "We are at epoch = 13\n",
            "We are at epoch = 14\n",
            "We are at epoch = 15\n",
            "We are at epoch = 16\n",
            "We are at epoch = 17\n",
            "We are at epoch = 18\n",
            "We are at epoch = 19\n"
          ]
        }
      ],
      "source": [
        "epoch_num = 20\n",
        "val_loss = []\n",
        "for epoch in range(epoch_num):\n",
        "    print(\"We are at epoch = {0}\".format(epoch))\n",
        "    for train_batch in train_dat.as_numpy_iterator():\n",
        "        tr_x = train_batch[:, :, :-1]\n",
        "        tr_y = np.expand_dims(train_batch[:, :, -1], axis=-1)\n",
        "        lstm_model.fit(tr_x, tr_y, epochs=1, verbose=0, shuffle=False)\n",
        "    vl_track = []\n",
        "    for validation_batch in validation_dat.as_numpy_iterator():\n",
        "        val_x = validation_batch[:, :, :-1]\n",
        "        val_y = np.expand_dims(validation_batch[:, :, -1], axis=-1)\n",
        "        vl_track.append(rmse(lstm_model.predict(val_x), val_y))\n",
        "    val_loss.append(np.mean(vl_track))"
      ]
    },
    {
      "cell_type": "code",
      "execution_count": null,
      "metadata": {
        "id": "pcTts5N5tEX0",
        "outputId": "939f9ca5-9367-43b8-c351-ebcdc153d81c"
      },
      "outputs": [
        {
          "data": {
            "image/png": "[encoded data removed]",
            "text/plain": [
              "<Figure size 1080x540 with 1 Axes>"
            ]
          },
          "metadata": {},
          "output_type": "display_data"
        }
      ],
      "source": [
        "sns.set_style(\"whitegrid\")\n",
        "plt.plot(val_loss)\n",
        "plt.title(\"Validation loss curve\")\n",
        "plt.show()"
      ]
    },
    {
      "cell_type": "markdown",
      "metadata": {
        "id": "ubpl-hkAtEX0"
      },
      "source": [
        "Below is a prediction results for the first 50 timesteps:"
      ]
    },
    {
      "cell_type": "code",
      "execution_count": null,
      "metadata": {
        "id": "z1E2ZRpUtEX1",
        "outputId": "24ea40e9-bcb5-4cad-9266-fc083d532311"
      },
      "outputs": [
        {
          "data": {
            "image/png": "[encoded data removed]",
            "text/plain": [
              "<Figure size 1080x540 with 1 Axes>"
            ]
          },
          "metadata": {},
          "output_type": "display_data"
        }
      ],
      "source": [
        "pred_val = MMSc_label.inverse_transform(lstm_model(np.expand_dims(np.asarray(val_df.iloc[:50, :-1]), axis = 0))[:, :, 0])[0, :]\n",
        "true_val = MMSc_label.inverse_transform(np.asarray(val_df.iloc[:50, -1]).reshape(-1,1))[:, 0]\n",
        "plt.plot(pred_val, 'r', label = \"Prediction\")\n",
        "plt.plot(true_val, 'b', label = \"True value\")\n",
        "plt.legend(loc=\"upper left\")\n",
        "plt.show()"
      ]
    },
    {
      "cell_type": "markdown",
      "metadata": {
        "id": "3n7BaC_RtEX1"
      },
      "source": [
        "#### 2.2.3. DeepAR without ancestral sequence sampling functionality\n",
        "\n",
        "DeepAR is a probabilistic time series forecasting model developed by Salinas et al. Here, I am just providing a simple implementation for this, in order to assess the performance of the model compared to the naive LSTM-based one.\n",
        "\n",
        "To avoid any numerical issues, we will sum 1e-4 to standard deviation.\n",
        "\n",
        "Also, my M1 macbook does not support tensorflow probability for some weird reason. I will borrow an existing implementaion of gaussian negative likelihood loss, and motify the code accordingly."
      ]
    },
    {
      "cell_type": "code",
      "execution_count": null,
      "metadata": {
        "id": "RrfNoWhAtEX1"
      },
      "outputs": [],
      "source": [
        "# https://fairyonice.github.io/Create-a-neural-net-with-a-negative-log-likelihood-as-a-loss.html\n",
        "def nll_gaussian(y_true, y_pred):\n",
        "    ## element wise square\n",
        "    mu = y_pred[:, :, 0]\n",
        "    sigma = y_pred[:, :, 1] + 1e-4\n",
        "    y_true = y_true[:, :, 0]\n",
        "    square = tf.square(mu - y_true)## preserve the same shape as y_pred.shape\n",
        "    ms = tf.divide(square,sigma) + K.log(sigma)\n",
        "    ms = tf.reduce_mean(ms)\n",
        "    return ms"
      ]
    },
    {
      "cell_type": "markdown",
      "metadata": {
        "id": "knRVr2BjtEX1"
      },
      "source": [
        "Model hyperparameters are:"
      ]
    },
    {
      "cell_type": "code",
      "execution_count": null,
      "metadata": {
        "id": "b2bmjpzJtEX1"
      },
      "outputs": [],
      "source": [
        "embedding_nums = [embedding_dimension(i) for i in cat_nums]\n",
        "dropout_rates = 0.1\n",
        "lstm_units = 40\n",
        "l1_penalty = 0.001"
      ]
    },
    {
      "cell_type": "markdown",
      "metadata": {
        "id": "TlDDWMpItEX1"
      },
      "source": [
        "Let's define the model below."
      ]
    },
    {
      "cell_type": "code",
      "execution_count": null,
      "metadata": {
        "id": "mjZF2Jp8tEX1"
      },
      "outputs": [],
      "source": [
        "from tensorflow.keras.regularizers import l1\n",
        "\n",
        "# Input layer\n",
        "inp = tf.keras.Input((None, train.shape[1]-1), name = 'Input')\n",
        "\n",
        "# Continous features\n",
        "cont = K.stack([inp[:, :, i] for i in cont_feat_tf], axis = 2)\n",
        "\n",
        "# Discrete features\n",
        "cats_emb = []\n",
        "for d_f in disc_feat_tf:\n",
        "    cat_inp = inp[:, :, d_f]\n",
        "    d_fm = d_f - disc_feat_tf[0]\n",
        "    cats_emb.append(Embedding(cat_nums[d_fm], embedding_nums[d_fm], name = \"Embedding_{0}\".format(disc_feat[d_fm]))(cat_inp))\n",
        "sub_embs = tf.concat([cont, tf.concat(cats_emb, axis = 2)], axis = 2)\n",
        "full_embs = Dropout(dropout_rates)(sub_embs)\n",
        "\n",
        "LSTM_out_1 = tf.keras.layers.LSTM(lstm_units, return_sequences=True, name = \"LSTM_1\")(full_embs)\n",
        "LSTM_out_2 = tf.keras.layers.LSTM(lstm_units, return_sequences=True, name = \"LSTM_2\")(LSTM_out_1)\n",
        "LSTM_out_3 = tf.keras.layers.LSTM(lstm_units, return_sequences=True, name = \"LSTM_3\")(LSTM_out_2)\n",
        "\n",
        "Output_dense_mu = Dense(1, activation='linear', name='Output_mu', kernel_regularizer=l1(l1_penalty))\n",
        "Output_dense_sigma = Dense(1, activation='softplus', name='Output_sigma', kernel_regularizer=l1(l1_penalty))\n",
        "mu = TimeDistributed(Output_dense_mu, name='Mu_TD')(LSTM_out_3)\n",
        "sigma = TimeDistributed(Output_dense_sigma, name='Sigma_TD')(LSTM_out_3)\n",
        "\n",
        "DeepAR_model = tf.keras.Model(inputs=inp, outputs=tf.concat([mu, sigma], axis = 2), name='DeepAR')\n",
        "DeepAR_model.compile(optimizer='adam', loss=nll_gaussian)\n"
      ]
    },
    {
      "cell_type": "code",
      "execution_count": null,
      "metadata": {
        "id": "cz54axqRtEX2",
        "outputId": "d6657719-749b-4303-fbca-5fdb55399855"
      },
      "outputs": [
        {
          "name": "stdout",
          "output_type": "stream",
          "text": [
            "We are at epoch = 0\n",
            "We are at epoch = 1\n",
            "We are at epoch = 2\n",
            "We are at epoch = 3\n",
            "We are at epoch = 4\n",
            "We are at epoch = 5\n",
            "We are at epoch = 6\n",
            "We are at epoch = 7\n",
            "We are at epoch = 8\n",
            "We are at epoch = 9\n",
            "We are at epoch = 10\n",
            "We are at epoch = 11\n",
            "We are at epoch = 12\n",
            "We are at epoch = 13\n",
            "We are at epoch = 14\n",
            "We are at epoch = 15\n",
            "We are at epoch = 16\n",
            "We are at epoch = 17\n",
            "We are at epoch = 18\n",
            "We are at epoch = 19\n",
            "We are at epoch = 20\n",
            "We are at epoch = 21\n",
            "We are at epoch = 22\n",
            "We are at epoch = 23\n",
            "We are at epoch = 24\n",
            "We are at epoch = 25\n",
            "We are at epoch = 26\n",
            "We are at epoch = 27\n",
            "We are at epoch = 28\n",
            "We are at epoch = 29\n"
          ]
        }
      ],
      "source": [
        "epoch_num = 30\n",
        "val_loss = []\n",
        "for epoch in range(epoch_num):\n",
        "    print(\"We are at epoch = {0}\".format(epoch))\n",
        "    for train_batch in train_dat.as_numpy_iterator():\n",
        "        tr_x = train_batch[:, :, :-1]\n",
        "        tr_y = np.expand_dims(train_batch[:, :, -1], axis=-1)\n",
        "        DeepAR_model.fit(tr_x, tr_y, epochs=1, verbose=0, shuffle=False)\n",
        "    DeepAR_model.save_weights(os.getcwd() + \"/DeepAR_weights/{0}.pth\".format(epoch))\n",
        "    vl_track = []\n",
        "    for validation_batch in validation_dat.as_numpy_iterator():\n",
        "        val_x = validation_batch[:, :, :-1]\n",
        "        val_y = np.expand_dims(validation_batch[:, :, -1], axis=-1)\n",
        "        vl_track.append(rmse(DeepAR_model.predict(val_x), val_y))\n",
        "    val_loss.append(np.mean(vl_track))"
      ]
    },
    {
      "cell_type": "markdown",
      "metadata": {
        "id": "cgOeYaXwtEX2"
      },
      "source": [
        "It seems like epoch 20 is the reasonable one to pick."
      ]
    },
    {
      "cell_type": "code",
      "execution_count": null,
      "metadata": {
        "id": "1o5AWVfrtEX2",
        "outputId": "dd594f19-efa9-4805-88fb-6042d38c797a"
      },
      "outputs": [
        {
          "data": {
            "text/plain": [
              "<tensorflow.python.training.tracking.util.CheckpointLoadStatus at 0x7fe9d306f070>"
            ]
          },
          "execution_count": 76,
          "metadata": {},
          "output_type": "execute_result"
        }
      ],
      "source": [
        "good_epoch = 20\n",
        "DeepAR_model.load_weights(os.getcwd() + \"/DeepAR_weights/{0}.pth\".format(good_epoch))"
      ]
    },
    {
      "cell_type": "markdown",
      "metadata": {
        "id": "2GS0Uw2HtEX2"
      },
      "source": [
        "Below, we have the prediction results for the validation dataset:"
      ]
    },
    {
      "cell_type": "code",
      "execution_count": null,
      "metadata": {
        "id": "ZzM6uTTqtEX2"
      },
      "outputs": [],
      "source": [
        "pred_val = MMSc_label.inverse_transform(DeepAR_model(np.expand_dims(np.asarray(val_df.iloc[:50, :-1]), axis = 0))[:, :, 0])[0, :]\n",
        "pred_sigma = MMSc_label.inverse_transform(np.sqrt(DeepAR_model(np.expand_dims(np.asarray(val_df.iloc[:50, :-1]), axis = 0))[:, :, 1]))[0, :]\n",
        "true_val = MMSc_label.inverse_transform(np.asarray(val_df.iloc[:50, -1]).reshape(-1,1))[:, 0]\n",
        "\n",
        "z_score = 1.65\n",
        "LB = np.clip(pred_val - z_score*pred_sigma, a_min = 0, a_max = None)\n",
        "UB = np.clip(pred_val + z_score*pred_sigma, a_min = 0, a_max = None)"
      ]
    },
    {
      "cell_type": "markdown",
      "metadata": {
        "id": "TTRluNaptEX2"
      },
      "source": [
        "The plot below shows approx 90% of prediction interval surrounding mean value forecasts:"
      ]
    },
    {
      "cell_type": "code",
      "execution_count": null,
      "metadata": {
        "id": "RiMmG0gdtEX2",
        "outputId": "5109d8f1-17ce-4057-bc96-d4b489357721"
      },
      "outputs": [
        {
          "data": {
            "image/png": "[encoded data removed]",
            "text/plain": [
              "<Figure size 1080x540 with 1 Axes>"
            ]
          },
          "metadata": {},
          "output_type": "display_data"
        }
      ],
      "source": [
        "plt.plot(pred_val, 'r', label = \"Prediction\")\n",
        "plt.fill_between(range(50), LB, UB, color='chocolate', alpha=0.2)\n",
        "plt.plot(true_val, 'b', label = \"True value\")\n",
        "plt.legend(loc=\"upper left\")\n",
        "plt.show()"
      ]
    },
    {
      "cell_type": "markdown",
      "metadata": {
        "id": "ofO7cThltEX2"
      },
      "source": [
        "Note: A rigorous implementation of DeepAR requires to feed value of previous RNN output as the new input to the forecasts, which is the step I skipped, since I just wanted to play with the dataset."
      ]
    },
    {
      "cell_type": "markdown",
      "metadata": {
        "id": "vuf317u3tEX3"
      },
      "source": [
        "### 2.2.4. DeepAR with ancestral forecasting functionality\n",
        "\n",
        "Below, we will make DeepAR implementation using Tensorflow. \n",
        "During the training phase, the network will receive:\n",
        "$$(z_{t-1},x_t)$$\n",
        "with aim to predict\n",
        "$$z_t$$\n",
        "where $(z_t)_t$ is target series, and $(x_t)_t$ is covariates.\n",
        "\n",
        "We will be using negative Gaussian log likelihood as the objective function."
      ]
    },
    {
      "cell_type": "code",
      "execution_count": 14,
      "metadata": {
        "id": "NR4irOPEtEX3"
      },
      "outputs": [],
      "source": [
        "train = train_x.copy()\n",
        "train[\"label\"] = train_y\n",
        "n = len(train)\n",
        "train_df = train[0:int(n*0.7)]\n",
        "val_df = train[int(n*0.7):int(n*0.9)]\n",
        "test_df = train[int(n*0.9):]"
      ]
    },
    {
      "cell_type": "code",
      "execution_count": 16,
      "metadata": {
        "colab": {
          "base_uri": "https://localhost:8080/"
        },
        "id": "DeasvWx2tEX3",
        "outputId": "e3464214-6ac9-44d6-820d-28ace290fae9"
      },
      "outputs": [
        {
          "name": "stderr",
          "output_type": "stream",
          "text": [
            "/var/folders/98/x8m1zwn15pldrsjr7xtrljz40000gn/T/ipykernel_6204/2397742870.py:2: SettingWithCopyWarning: \n",
            "A value is trying to be set on a copy of a slice from a DataFrame.\n",
            "Try using .loc[row_indexer,col_indexer] = value instead\n",
            "\n",
            "See the caveats in the documentation: https://pandas.pydata.org/pandas-docs/stable/user_guide/indexing.html#returning-a-view-versus-a-copy\n",
            "  train_df[\"prev_label\"] = train_df[\"label\"].shift(1).fillna(0)\n",
            "/var/folders/98/x8m1zwn15pldrsjr7xtrljz40000gn/T/ipykernel_6204/2397742870.py:4: SettingWithCopyWarning: \n",
            "A value is trying to be set on a copy of a slice from a DataFrame.\n",
            "Try using .loc[row_indexer,col_indexer] = value instead\n",
            "\n",
            "See the caveats in the documentation: https://pandas.pydata.org/pandas-docs/stable/user_guide/indexing.html#returning-a-view-versus-a-copy\n",
            "  val_df[\"prev_label\"] = val_df[\"label\"].shift(1).fillna(0.469262)\n",
            "/var/folders/98/x8m1zwn15pldrsjr7xtrljz40000gn/T/ipykernel_6204/2397742870.py:6: SettingWithCopyWarning: \n",
            "A value is trying to be set on a copy of a slice from a DataFrame.\n",
            "Try using .loc[row_indexer,col_indexer] = value instead\n",
            "\n",
            "See the caveats in the documentation: https://pandas.pydata.org/pandas-docs/stable/user_guide/indexing.html#returning-a-view-versus-a-copy\n",
            "  test_df[\"prev_label\"] = test_df[\"label\"].shift(1).fillna(0.389344)\n"
          ]
        }
      ],
      "source": [
        "col_list = ['prev_label', 'year', 'month', 'day', 'hour', 'temp', 'humidity', 'season', 'holiday', 'workingday', 'weather', 'label']\n",
        "train_df[\"prev_label\"] = train_df[\"label\"].shift(1).fillna(0)\n",
        "train_df = train_df[col_list]\n",
        "val_df[\"prev_label\"] = val_df[\"label\"].shift(1).fillna(0.469262)\n",
        "val_df = val_df[col_list]\n",
        "test_df[\"prev_label\"] = test_df[\"label\"].shift(1).fillna(0.389344)\n",
        "test_df = test_df[col_list]"
      ]
    },
    {
      "cell_type": "markdown",
      "metadata": {
        "id": "rEBd5v-StEX3"
      },
      "source": [
        "Train dataset looks like:"
      ]
    },
    {
      "cell_type": "code",
      "execution_count": 33,
      "metadata": {
        "colab": {
          "base_uri": "https://localhost:8080/",
          "height": 204
        },
        "id": "hrlmaFGltEX3",
        "outputId": "a410d745-b4ee-402f-96f9-5d2fb6c79351"
      },
      "outputs": [
        {
          "data": {
            "text/html": [
              "<div>\n",
              "<style scoped>\n",
              "    .dataframe tbody tr th:only-of-type {\n",
              "        vertical-align: middle;\n",
              "    }\n",
              "\n",
              "    .dataframe tbody tr th {\n",
              "        vertical-align: top;\n",
              "    }\n",
              "\n",
              "    .dataframe thead th {\n",
              "        text-align: right;\n",
              "    }\n",
              "</style>\n",
              "<table border=\"1\" class=\"dataframe\">\n",
              "  <thead>\n",
              "    <tr style=\"text-align: right;\">\n",
              "      <th></th>\n",
              "      <th>prev_label</th>\n",
              "      <th>year</th>\n",
              "      <th>month</th>\n",
              "      <th>day</th>\n",
              "      <th>hour</th>\n",
              "      <th>temp</th>\n",
              "      <th>humidity</th>\n",
              "      <th>season</th>\n",
              "      <th>holiday</th>\n",
              "      <th>workingday</th>\n",
              "      <th>weather</th>\n",
              "      <th>label</th>\n",
              "    </tr>\n",
              "  </thead>\n",
              "  <tbody>\n",
              "    <tr>\n",
              "      <th>0</th>\n",
              "      <td>0.000000</td>\n",
              "      <td>0.0</td>\n",
              "      <td>0.0</td>\n",
              "      <td>0.0</td>\n",
              "      <td>0.000000</td>\n",
              "      <td>0.224490</td>\n",
              "      <td>0.81</td>\n",
              "      <td>0</td>\n",
              "      <td>0</td>\n",
              "      <td>0</td>\n",
              "      <td>0</td>\n",
              "      <td>0.015369</td>\n",
              "    </tr>\n",
              "    <tr>\n",
              "      <th>1</th>\n",
              "      <td>0.015369</td>\n",
              "      <td>0.0</td>\n",
              "      <td>0.0</td>\n",
              "      <td>0.0</td>\n",
              "      <td>0.043478</td>\n",
              "      <td>0.204082</td>\n",
              "      <td>0.80</td>\n",
              "      <td>0</td>\n",
              "      <td>0</td>\n",
              "      <td>0</td>\n",
              "      <td>0</td>\n",
              "      <td>0.039959</td>\n",
              "    </tr>\n",
              "    <tr>\n",
              "      <th>2</th>\n",
              "      <td>0.039959</td>\n",
              "      <td>0.0</td>\n",
              "      <td>0.0</td>\n",
              "      <td>0.0</td>\n",
              "      <td>0.086957</td>\n",
              "      <td>0.204082</td>\n",
              "      <td>0.80</td>\n",
              "      <td>0</td>\n",
              "      <td>0</td>\n",
              "      <td>0</td>\n",
              "      <td>0</td>\n",
              "      <td>0.031762</td>\n",
              "    </tr>\n",
              "    <tr>\n",
              "      <th>3</th>\n",
              "      <td>0.031762</td>\n",
              "      <td>0.0</td>\n",
              "      <td>0.0</td>\n",
              "      <td>0.0</td>\n",
              "      <td>0.130435</td>\n",
              "      <td>0.224490</td>\n",
              "      <td>0.75</td>\n",
              "      <td>0</td>\n",
              "      <td>0</td>\n",
              "      <td>0</td>\n",
              "      <td>0</td>\n",
              "      <td>0.012295</td>\n",
              "    </tr>\n",
              "    <tr>\n",
              "      <th>4</th>\n",
              "      <td>0.012295</td>\n",
              "      <td>0.0</td>\n",
              "      <td>0.0</td>\n",
              "      <td>0.0</td>\n",
              "      <td>0.173913</td>\n",
              "      <td>0.224490</td>\n",
              "      <td>0.75</td>\n",
              "      <td>0</td>\n",
              "      <td>0</td>\n",
              "      <td>0</td>\n",
              "      <td>0</td>\n",
              "      <td>0.000000</td>\n",
              "    </tr>\n",
              "  </tbody>\n",
              "</table>\n",
              "</div>"
            ],
            "text/plain": [
              "   prev_label  year  month  day      hour      temp  humidity  season  \\\n",
              "0    0.000000   0.0    0.0  0.0  0.000000  0.224490      0.81       0   \n",
              "1    0.015369   0.0    0.0  0.0  0.043478  0.204082      0.80       0   \n",
              "2    0.039959   0.0    0.0  0.0  0.086957  0.204082      0.80       0   \n",
              "3    0.031762   0.0    0.0  0.0  0.130435  0.224490      0.75       0   \n",
              "4    0.012295   0.0    0.0  0.0  0.173913  0.224490      0.75       0   \n",
              "\n",
              "   holiday  workingday  weather     label  \n",
              "0        0           0        0  0.015369  \n",
              "1        0           0        0  0.039959  \n",
              "2        0           0        0  0.031762  \n",
              "3        0           0        0  0.012295  \n",
              "4        0           0        0  0.000000  "
            ]
          },
          "execution_count": 33,
          "metadata": {},
          "output_type": "execute_result"
        }
      ],
      "source": [
        "train_df.head(5)"
      ]
    },
    {
      "cell_type": "markdown",
      "metadata": {
        "id": "qoeGrM5xtEX3"
      },
      "source": [
        "Let's define the iterator:"
      ]
    },
    {
      "cell_type": "code",
      "execution_count": 18,
      "metadata": {
        "id": "Efx7zJGytEX4"
      },
      "outputs": [
        {
          "name": "stderr",
          "output_type": "stream",
          "text": [
            "2022-06-19 21:33:52.806072: I tensorflow/core/platform/cpu_feature_guard.cc:142] This TensorFlow binary is optimized with oneAPI Deep Neural Network Library (oneDNN) to use the following CPU instructions in performance-critical operations:  SSE4.1 SSE4.2\n",
            "To enable them in other operations, rebuild TensorFlow with the appropriate compiler flags.\n"
          ]
        }
      ],
      "source": [
        "window_size = 24\n",
        "batch_size = 32\n",
        "shuffle_buffer = 1000\n",
        "train_dat = windowed_dataset(train_df, window_size, batch_size, shuffle_buffer)\n",
        "validation_dat = windowed_dataset(val_df, window_size, batch_size, shuffle_buffer)\n",
        "test_dat = windowed_dataset(test_df, window_size, batch_size, shuffle_buffer, train = False)"
      ]
    },
    {
      "cell_type": "markdown",
      "metadata": {
        "id": "3hMNEEKjtEX4"
      },
      "source": [
        "Note that unlike the previous analysis we did, we now have \"previous label\" as also part of features. Note that the very initial value of prev_label was replaced by 0, as this is not known.\n",
        "\n",
        "Below, we have DeepAR model parameter definition:"
      ]
    },
    {
      "cell_type": "code",
      "execution_count": 34,
      "metadata": {
        "id": "FPqI9-eKtEX4"
      },
      "outputs": [],
      "source": [
        "def embedding_dimension(cat_num):\n",
        "    return round(cat_num**0.25)"
      ]
    },
    {
      "cell_type": "code",
      "execution_count": 119,
      "metadata": {
        "id": "a5TayRF-tEX4"
      },
      "outputs": [],
      "source": [
        "class DeepAR_tf_params():\n",
        "    def __init__(self):\n",
        "        self.cat_nums = None\n",
        "        self.cont_feat = None\n",
        "        self.cont_feat_tf = None\n",
        "        self.disc_feat = None\n",
        "        self.disc_feat_tf = None\n",
        "        self.dropout_rates = None\n",
        "        self.embedding_nums = None\n",
        "        self.label_tf = None\n",
        "        self.lstm_num = None\n",
        "        self.lstm_units = None\n",
        "        self.l1_penalty = None\n",
        "\n",
        "cont_feat = ['prev_label', 'year', 'month', 'day', 'hour', 'temp', 'humidity']\n",
        "disc_feat = ['season', 'holiday', 'workingday', 'weather']\n",
        "\n",
        "params = DeepAR_tf_params()\n",
        "params.cat_nums = [4, 2, 2, 4] # Due to numerical issue, we are expanding cat_num\n",
        "params.cont_feat = cont_feat\n",
        "params.disc_feat = disc_feat\n",
        "params.cont_feat_tf = list(range(0,7))\n",
        "params.disc_feat_tf = list(range(7,11))\n",
        "params.dropout_rates = 0\n",
        "params.embedding_nums = [embedding_dimension(i) for i in params.cat_nums]\n",
        "params.lstm_num = 3\n",
        "params.label_tf = [11]\n",
        "params.lstm_units = 40\n",
        "params.l1_penalty = 0\n",
        "params.lr = 0.0003"
      ]
    },
    {
      "cell_type": "markdown",
      "metadata": {
        "id": "qUEBOOYVtEX4"
      },
      "source": [
        "Now, let's build DeepAR model. We will:\n",
        "* Train the network using the true label.\n",
        "* Assess the validation performance via ancestral sampling with 6 step forecasting results.\n",
        "\n",
        "**NOTE**: The model assumes we have at least one categorical and one ordinal features, with the last feature dimension being the label."
      ]
    },
    {
      "cell_type": "code",
      "execution_count": 120,
      "metadata": {
        "id": "dcTdv4s4tEX4"
      },
      "outputs": [],
      "source": [
        "from tensorflow.keras.regularizers import l1\n",
        "\n",
        "class DeepAR_tf(tf.keras.Model):\n",
        "  def __init__(self, D_p:DeepAR_tf_params):\n",
        "    super().__init__(self)\n",
        "    self.params = D_p\n",
        "    self.cat_embeddings = [Embedding(self.params.cat_nums[d_f - self.params.disc_feat_tf[0]], self.params.embedding_nums[d_f - self.params.disc_feat_tf[0]], name = \"Embedding_{0}\".format(self.params.disc_feat[d_f - self.params.disc_feat_tf[0]])) for d_f in self.params.disc_feat_tf]\n",
        "    self.lstms = [tf.keras.layers.LSTM(self.params.lstm_units, return_sequences=True, return_state=True, name = \"LSTM_{0}\".format(i)) for i in range(self.params.lstm_num)]\n",
        "    self.mu = Dense(1, activation='linear', name='mu', kernel_regularizer=l1(self.params.l1_penalty))\n",
        "    self.sigma = Dense(1, activation='softplus', name='sigma', kernel_regularizer=l1(self.params.l1_penalty))\n",
        "\n",
        "  def call(self, inputs, states=None, return_state=False, training=False):\n",
        "    x = inputs\n",
        "    continuous_features = K.stack([x[:, :, i] for i in self.params.cont_feat_tf], axis = 2)\n",
        "    discrete_features = tf.concat([self.cat_embeddings[i - self.params.disc_feat_tf[0]](tf.cast(x[:, :, i], tf.int64), training = training) for i in self.params.disc_feat_tf], axis = 2)\n",
        "    x = tf.concat([continuous_features, discrete_features], axis = 2)\n",
        "    x = Dropout(self.params.dropout_rates)(x)\n",
        "    if states is None:\n",
        "      states = [self.lstms[i].get_initial_state(x) for i in range(self.params.lstm_num)]\n",
        "    for i in range(self.params.lstm_num):\n",
        "      x, memory_i, carry_i = self.lstms[i](x, initial_state=states[i], training=training)\n",
        "      states[i] = [memory_i, carry_i]\n",
        "    mu = self.mu(x, training = training)\n",
        "    sigma = self.sigma(x, training = training)\n",
        "    x = tf.concat([mu, sigma], axis = 2)\n",
        "    if return_state:\n",
        "      return x, states\n",
        "    else:\n",
        "      return x"
      ]
    },
    {
      "cell_type": "code",
      "execution_count": 121,
      "metadata": {
        "id": "n_MsM9-ttEX4"
      },
      "outputs": [],
      "source": [
        "DeepAR_tf_model = DeepAR_tf(params)\n",
        "for i in train_dat.take(1):\n",
        "    for t in range(i.shape[1]):\n",
        "        tr_x = K.expand_dims(i[:, t, :-1], axis = 1)\n",
        "        tr_y = i[:, t, -1]\n",
        "        example_pred = DeepAR_tf_model(tr_x)"
      ]
    },
    {
      "cell_type": "code",
      "execution_count": 122,
      "metadata": {
        "colab": {
          "base_uri": "https://localhost:8080/"
        },
        "id": "bHqaD72WtEX4",
        "outputId": "c9cc2440-559b-44d8-edef-d6e328a4b643"
      },
      "outputs": [
        {
          "name": "stdout",
          "output_type": "stream",
          "text": [
            "Model: \"deep_ar_tf_10\"\n",
            "_________________________________________________________________\n",
            "Layer (type)                 Output Shape              Param #   \n",
            "=================================================================\n",
            "Embedding_season (Embedding) multiple                  4         \n",
            "_________________________________________________________________\n",
            "Embedding_holiday (Embedding multiple                  2         \n",
            "_________________________________________________________________\n",
            "Embedding_workingday (Embedd multiple                  2         \n",
            "_________________________________________________________________\n",
            "Embedding_weather (Embedding multiple                  4         \n",
            "_________________________________________________________________\n",
            "LSTM_0 (LSTM)                multiple                  8320      \n",
            "_________________________________________________________________\n",
            "LSTM_1 (LSTM)                multiple                  12960     \n",
            "_________________________________________________________________\n",
            "LSTM_2 (LSTM)                multiple                  12960     \n",
            "_________________________________________________________________\n",
            "mu (Dense)                   multiple                  41        \n",
            "_________________________________________________________________\n",
            "sigma (Dense)                multiple                  41        \n",
            "=================================================================\n",
            "Total params: 34,334\n",
            "Trainable params: 34,334\n",
            "Non-trainable params: 0\n",
            "_________________________________________________________________\n"
          ]
        }
      ],
      "source": [
        "DeepAR_tf_model.summary()"
      ]
    },
    {
      "cell_type": "markdown",
      "metadata": {
        "id": "m4Y2E9FuyJpr"
      },
      "source": [
        "Now, let's compile the model:"
      ]
    },
    {
      "cell_type": "code",
      "execution_count": 123,
      "metadata": {
        "id": "hKEX-ixUyOH6"
      },
      "outputs": [],
      "source": [
        "# https://fairyonice.github.io/Create-a-neural-net-with-a-negative-log-likelihood-as-a-loss.html\n",
        "def nll_gaussian(y_true, y_pred):\n",
        "    ## element wise square\n",
        "    mu = y_pred[:, 0, 0]\n",
        "    sigma = y_pred[:, 0, 1] + 1e-4\n",
        "    y_true = tf.cast(y_true, tf.float32)\n",
        "    square = tf.square(mu - y_true)## preserve the same shape as y_pred.shape\n",
        "    ms = tf.divide(square,sigma) + K.log(sigma)\n",
        "    ms = tf.reduce_mean(ms)\n",
        "    return ms"
      ]
    },
    {
      "cell_type": "markdown",
      "metadata": {
        "id": "dSQ1y9v33fcl"
      },
      "source": [
        "**NOTE**: Now, I need to write the custom training loop below (get loss += for each time step, and update the weight at the end).\n",
        "\n",
        "Try to do this like in Pytorch.\n"
      ]
    },
    {
      "cell_type": "code",
      "execution_count": 124,
      "metadata": {
        "id": "SM2KDfyq3tCJ"
      },
      "outputs": [],
      "source": [
        "def grad(model, inputs, targets):\n",
        "  loss_value = tf.zeros(1)\n",
        "  stat = None\n",
        "  with tf.GradientTape() as tape:\n",
        "    for t in range(inputs.shape[1]):\n",
        "      features = K.expand_dims(inputs[:, t, :], axis = 1)\n",
        "      if stat == None:\n",
        "        y_pred, stat = model(features, return_state = True, training = True)\n",
        "      else:\n",
        "        y_pred, stat = model(features, states = stat, return_state = True, training = True)\n",
        "      loss_value += nll_gaussian(targets[:, t], y_pred)\n",
        "  return loss_value, tape.gradient(loss_value, model.trainable_variables)"
      ]
    },
    {
      "cell_type": "code",
      "execution_count": 130,
      "metadata": {},
      "outputs": [],
      "source": [
        "## Note: Rerunning this cell uses the same model variables\n",
        "DeepAR_tf_model = DeepAR_tf(params)\n",
        "optimizer = tf.keras.optimizers.Adam(learning_rate=params.lr)"
      ]
    },
    {
      "cell_type": "code",
      "execution_count": 132,
      "metadata": {
        "colab": {
          "base_uri": "https://localhost:8080/",
          "height": 477
        },
        "id": "Km7SDlnXz6WH",
        "outputId": "d07a6b9b-e666-4d4b-cca1-c3e31ddb0545"
      },
      "outputs": [
        {
          "name": "stdout",
          "output_type": "stream",
          "text": [
            "Epoch 000: Loss: -74.557\n",
            "Epoch 001: Loss: -79.582\n",
            "Epoch 002: Loss: -84.687\n",
            "Epoch 003: Loss: -92.564\n",
            "Epoch 004: Loss: -105.452\n",
            "Epoch 005: Loss: -115.005\n",
            "Epoch 006: Loss: -120.333\n",
            "Epoch 007: Loss: -124.603\n",
            "Epoch 008: Loss: -128.619\n",
            "Epoch 009: Loss: -131.554\n",
            "Epoch 010: Loss: -134.317\n",
            "Epoch 011: Loss: -137.106\n",
            "Epoch 012: Loss: -138.323\n",
            "Epoch 013: Loss: -140.714\n",
            "Epoch 014: Loss: -142.095\n",
            "Epoch 015: Loss: -143.105\n",
            "Epoch 016: Loss: -144.373\n",
            "Epoch 017: Loss: -146.144\n",
            "Epoch 018: Loss: -147.088\n",
            "Epoch 019: Loss: -147.863\n",
            "Epoch 020: Loss: -148.874\n",
            "Epoch 021: Loss: -150.100\n",
            "Epoch 022: Loss: -150.860\n",
            "Epoch 023: Loss: -151.464\n",
            "Epoch 024: Loss: -152.378\n",
            "Epoch 025: Loss: -152.823\n",
            "Epoch 026: Loss: -153.395\n",
            "Epoch 027: Loss: -153.747\n",
            "Epoch 028: Loss: -154.921\n",
            "Epoch 029: Loss: -155.581\n"
          ]
        }
      ],
      "source": [
        "# Keep results for plotting\n",
        "train_loss_results = []\n",
        "\n",
        "num_epochs = 30\n",
        "\n",
        "for epoch in range(num_epochs):\n",
        "  epoch_loss_avg = tf.keras.metrics.Mean()\n",
        "\n",
        "  # Training loop - using batches of 32\n",
        "  for i in train_dat:\n",
        "    x = i[:, :, :-1]\n",
        "    y = i[:, :, -1]\n",
        "    # Optimize the model\n",
        "    loss_value, grads = grad(DeepAR_tf_model, x, y)\n",
        "    optimizer.apply_gradients(zip(grads, DeepAR_tf_model.trainable_variables))\n",
        "\n",
        "    # Track progress\n",
        "    epoch_loss_avg.update_state(loss_value)  # Add current batch loss\n",
        "\n",
        "  # End epoch\n",
        "  train_loss_results.append(epoch_loss_avg.result())\n",
        "\n",
        "  print(\"Epoch {:03d}: Loss: {:.3f}\".format(epoch, epoch_loss_avg.result()))\n",
        "  # DeepAR_tf_model.save(os.getcwd() + \"/DeepARtf_weights/{0}.h5\".format(epoch), save_format=\"h5\")"
      ]
    },
    {
      "cell_type": "code",
      "execution_count": 210,
      "metadata": {},
      "outputs": [],
      "source": [
        "f_starting = 10"
      ]
    },
    {
      "cell_type": "code",
      "execution_count": 211,
      "metadata": {},
      "outputs": [],
      "source": [
        "for i in validation_dat.take(13):\n",
        "    states = None\n",
        "    x = i[:, :, :-1].numpy()\n",
        "    y_hat = tf.zeros(i[:, :, -1].shape).numpy()\n",
        "    y = i[:, :, -1].numpy()\n",
        "    std = tf.zeros(i[:, :, -1].shape).numpy()\n",
        "    for t in range(x.shape[1]):\n",
        "      features = K.expand_dims(x[:, t, :], axis = 1)\n",
        "      if states == None:\n",
        "        y_pred, states = DeepAR_tf_model(features, return_state = True, training = False)\n",
        "      else:\n",
        "        y_pred, states = DeepAR_tf_model(features, states = states, return_state = True, training = False)\n",
        "      if t < x.shape[1]-1 and t >= f_starting:\n",
        "        x[:, t+1, 0] = y_pred[:, 0, 0]\n",
        "        y_hat[:, t] = y_pred[:, 0, 0]\n",
        "        std[:, t] = y_pred[:, 0, 1]\n",
        "      elif t < f_starting:\n",
        "        y_hat[:, t] = x[:, t+1, 0]\n",
        "        std[:, t] = 0*y_pred[:, 0, 1]\n",
        "      else:\n",
        "        y_hat[:, t] = y_pred[:, 0, 0]\n",
        "        std[:, t] = y_pred[:, 0, 1]\n",
        "      "
      ]
    },
    {
      "cell_type": "code",
      "execution_count": 212,
      "metadata": {},
      "outputs": [],
      "source": [
        "pred_val = MMSc_label.inverse_transform(y_hat)\n",
        "pred_sigma = MMSc_label.inverse_transform(np.sqrt(std))\n",
        "true_val = MMSc_label.inverse_transform(y)\n",
        "\n",
        "z_score = 1.65\n",
        "LB = np.clip(pred_val - z_score*pred_sigma, a_min = 0, a_max = None)\n",
        "UB = np.clip(pred_val + z_score*pred_sigma, a_min = 0, a_max = None)"
      ]
    },
    {
      "cell_type": "code",
      "execution_count": 213,
      "metadata": {},
      "outputs": [
        {
          "data": {
            "image/png": "[encoded data removed]",
            "text/plain": [
              "<Figure size 1080x540 with 1 Axes>"
            ]
          },
          "metadata": {},
          "output_type": "display_data"
        }
      ],
      "source": [
        "j = 15\n",
        "plt.plot(pred_val[j, :], 'r', label = \"Prediction\")\n",
        "plt.fill_between(range(y_hat.shape[1]), LB[j, :], UB[j, :], color='chocolate', alpha=0.2)\n",
        "plt.plot(true_val[j, :], 'b', label = \"True value\")\n",
        "plt.legend(loc=\"upper left\")\n",
        "plt.show()"
      ]
    }
  ],
  "metadata": {
    "colab": {
      "collapsed_sections": [],
      "name": "Model.ipynb",
      "provenance": []
    },
    "kernelspec": {
      "display_name": "Python 3.8.2 ('Machine learning')",
      "language": "python",
      "name": "python3"
    },
    "language_info": {
      "codemirror_mode": {
        "name": "ipython",
        "version": 3
      },
      "file_extension": ".py",
      "mimetype": "text/x-python",
      "name": "python",
      "nbconvert_exporter": "python",
      "pygments_lexer": "ipython3",
      "version": "3.8.6"
    },
    "orig_nbformat": 4,
    "vscode": {
      "interpreter": {
        "hash": "d529c735ef0fa2a8be9a8b3684a95e453030356abbc39f4942ceff96898143a8"
      }
    }
  },
  "nbformat": 4,
  "nbformat_minor": 0
}
